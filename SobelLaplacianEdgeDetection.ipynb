{
 "cells": [
  {
   "cell_type": "code",
   "execution_count": 1,
   "metadata": {},
   "outputs": [],
   "source": [
    "import numpy as np\n",
    "import cv2"
   ]
  },
  {
   "cell_type": "code",
   "execution_count": 2,
   "metadata": {},
   "outputs": [],
   "source": [
    "cap = cv2.VideoCapture(0)\n",
    "\n"
   ]
  },
  {
   "cell_type": "code",
   "execution_count": 3,
   "metadata": {},
   "outputs": [
    {
     "ename": "KeyboardInterrupt",
     "evalue": "",
     "output_type": "error",
     "traceback": [
      "\u001b[1;31m---------------------------------------------------------------------------\u001b[0m",
      "\u001b[1;31mKeyboardInterrupt\u001b[0m                         Traceback (most recent call last)",
      "\u001b[1;32mg:\\CannyEdgeDetection\\SobelEdgeDetection.ipynb Cell 3'\u001b[0m in \u001b[0;36m<cell line: 1>\u001b[1;34m()\u001b[0m\n\u001b[0;32m      <a href='vscode-notebook-cell:/g%3A/CannyEdgeDetection/SobelEdgeDetection.ipynb#ch0000002?line=0'>1</a>\u001b[0m \u001b[39mwhile\u001b[39;00m(\u001b[39m1\u001b[39m):\n\u001b[0;32m      <a href='vscode-notebook-cell:/g%3A/CannyEdgeDetection/SobelEdgeDetection.ipynb#ch0000002?line=1'>2</a>\u001b[0m      \n\u001b[0;32m      <a href='vscode-notebook-cell:/g%3A/CannyEdgeDetection/SobelEdgeDetection.ipynb#ch0000002?line=2'>3</a>\u001b[0m     \u001b[39m# Take each frame\u001b[39;00m\n\u001b[1;32m----> <a href='vscode-notebook-cell:/g%3A/CannyEdgeDetection/SobelEdgeDetection.ipynb#ch0000002?line=3'>4</a>\u001b[0m     ret, frame \u001b[39m=\u001b[39m cap\u001b[39m.\u001b[39;49mread()\n\u001b[0;32m      <a href='vscode-notebook-cell:/g%3A/CannyEdgeDetection/SobelEdgeDetection.ipynb#ch0000002?line=5'>6</a>\u001b[0m     \u001b[39m# Convert to HSV for simpler calculations\u001b[39;00m\n\u001b[0;32m      <a href='vscode-notebook-cell:/g%3A/CannyEdgeDetection/SobelEdgeDetection.ipynb#ch0000002?line=6'>7</a>\u001b[0m     hsv \u001b[39m=\u001b[39m cv2\u001b[39m.\u001b[39mcvtColor(frame, cv2\u001b[39m.\u001b[39mCOLOR_BGR2HSV)\n",
      "\u001b[1;31mKeyboardInterrupt\u001b[0m: "
     ]
    }
   ],
   "source": [
    "while(1):\n",
    "     \n",
    "    # Take each frame\n",
    "    ret, frame = cap.read()\n",
    "     \n",
    "    # Convert to HSV for simpler calculations\n",
    "    hsv = cv2.cvtColor(frame, cv2.COLOR_BGR2HSV)\n",
    "     \n",
    "    # Calculation of Sobelx\n",
    "    sobelx = cv2.Sobel(frame,cv2.CV_64F,1,0,ksize=5)\n",
    "     \n",
    "    # Calculation of Sobely\n",
    "    sobely = cv2.Sobel(frame,cv2.CV_64F,0,1,ksize=5)\n",
    "     \n",
    "    # Calculation of Laplacian\n",
    "    laplacian = cv2.Laplacian(frame,cv2.CV_64F)\n",
    "     \n",
    "    cv2.imshow('sobelx',sobelx)\n",
    "    cv2.imshow('sobely',sobely)\n",
    "    cv2.imshow('laplacian',laplacian)\n",
    "    k = cv2.waitKey(5) & 0xFF\n",
    "    if k == 27:\n",
    "        break\n",
    " \n",
    "cv2.destroyAllWindows()"
   ]
  }
 ],
 "metadata": {
  "kernelspec": {
   "display_name": "Python 3.10.4 ('MyEnveroment': venv)",
   "language": "python",
   "name": "python3"
  },
  "language_info": {
   "codemirror_mode": {
    "name": "ipython",
    "version": 3
   },
   "file_extension": ".py",
   "mimetype": "text/x-python",
   "name": "python",
   "nbconvert_exporter": "python",
   "pygments_lexer": "ipython3",
   "version": "3.10.4"
  },
  "orig_nbformat": 4,
  "vscode": {
   "interpreter": {
    "hash": "a8c85cff7dc5a0a6668d9fc7a5635c6c75182b0172e041a77eeb48befb64c1e3"
   }
  }
 },
 "nbformat": 4,
 "nbformat_minor": 2
}
